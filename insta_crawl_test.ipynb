{
 "cells": [
  {
   "cell_type": "code",
   "execution_count": 1,
   "metadata": {},
   "outputs": [],
   "source": [
    "import urllib\n",
    "import requests\n",
    "import json\n",
    "import os\n",
    "import re\n",
    "import pyquery\n",
    "import pandas as pd\n",
    "import pickle\n",
    "import numpy as np"
   ]
  },
  {
   "cell_type": "code",
   "execution_count": 2,
   "metadata": {},
   "outputs": [],
   "source": [
    "def get_web_html(url):\n",
    "    try:\n",
    "        response = requests.get(url, headers=headers)\n",
    "        if response.status_code == 200:\n",
    "            return response.text\n",
    "        else:    \n",
    "            print('Wrong：', response.status_code)        \n",
    "    except Exception as e:\n",
    "        print(e)\n",
    "        return None"
   ]
  },
  {
   "cell_type": "code",
   "execution_count": 3,
   "metadata": {},
   "outputs": [],
   "source": [
    "def get_twelve_post(edges):   \n",
    "    global all_posts\n",
    "    global post_cnt\n",
    "    global post_df\n",
    "    global post_comments\n",
    "    #12 post of this for loop\n",
    "    for edge in edges:\n",
    "        ps_info = {}\n",
    "        ps_info['post_id'] = post_cnt\n",
    "        if len(edge['node']['edge_media_to_caption']['edges']) > 0:\n",
    "            ps_info['post_text'] = edge['node']['edge_media_to_caption']['edges'][0]['node']['text']\n",
    "        else:\n",
    "            ps_info['post_text'] = ''\n",
    "        ps_info['post_coment_count'] = edge['node']['edge_media_to_comment']['count']\n",
    "        ps_info['post_likes'] = edge['node']['edge_media_preview_like']['count']\n",
    "        ps_info['post_time']=str(pd.to_datetime(edge['node']['taken_at_timestamp'],unit='s'))\n",
    "        \n",
    "        shortcode = edge['node']['shortcode']\n",
    "        url_shortcode = 'https://www.instagram.com/p/'+shortcode+'/?__a=1'\n",
    "        with urllib.request.urlopen(url_shortcode) as temp_u:\n",
    "            js_data = json.loads(temp_u.read().decode())\n",
    "        photo_in_post_cnt=0\n",
    "        post = []\n",
    "        for row in js_data['graphql']['shortcode_media']['edge_media_to_parent_comment']['edges']:\n",
    "            info = {}\n",
    "            info['text'] = row['node']['text']\n",
    "            info['username'] = row['node']['owner']['username']  \n",
    "            post_comments.append(info)\n",
    "       \n",
    "        ps_info['comments'] = post_comments\n",
    "        post_df.append(ps_info)\n",
    "        if 'edge_sidecar_to_children' in js_data['graphql']['shortcode_media']:\n",
    "            edges_shortcode = js_data['graphql']['shortcode_media']['edge_sidecar_to_children']['edges']\n",
    "            #num of pic in single post of this for loop            \n",
    "            k = 1\n",
    "            for edge_s in edges_shortcode:\n",
    "                fn = 'post_'+str(post_cnt)+'_'+str(k)\n",
    "                k += 1\n",
    "                if edge_s['node']['is_video'] and edge_s['node']['video_url'] != 'https://static.cdninstagram.com/rsrc.php/null.jpg':\n",
    "                    display_url = edge_s['node']['video_url']\n",
    "                elif edge_s['node']['display_url']:\n",
    "                    display_url = edge_s['node']['display_url']\n",
    "                post.append([display_url,fn])\n",
    "                photo_in_post_cnt=photo_in_post_cnt+1  \n",
    "        else:\n",
    "            fn = 'post_'+str(post_cnt)+'_1'\n",
    "            if js_data['graphql']['shortcode_media']['is_video'] and js_data['graphql']['shortcode_media']['video_url'] != 'https://static.cdninstagram.com/rsrc.php/null.jpg':\n",
    "                display_url = js_data['graphql']['shortcode_media']['video_url']\n",
    "            elif js_data['graphql']['shortcode_media']['display_url']:\n",
    "                display_url = js_data['graphql']['shortcode_media']['display_url']\n",
    "            post.append([display_url,fn])\n",
    "        all_posts.append(post)\n",
    "        post_cnt=post_cnt+1"
   ]
  },
  {
   "cell_type": "code",
   "execution_count": 7,
   "metadata": {
    "scrolled": false
   },
   "outputs": [
    {
     "name": "stdout",
     "output_type": "stream",
     "text": [
      "data/nasa/  already exist\n"
     ]
    }
   ],
   "source": [
    "all_posts = []\n",
    "post_cnt=1\n",
    "post_comments = []\n",
    "post_df = []\n",
    "\n",
    "user_name = 'nasa'\n",
    "#download path\n",
    "max_post_iter=50\n",
    "\n",
    "url = 'https://www.instagram.com/' + user_name\n",
    "headers = {\n",
    "    'user-agent': 'Mozilla/5.0 (Windows NT 10.0; Win64; x64) AppleWebKit/537.36 (KHTML, like Gecko) Chrome/68.0.3440.106 Safari/537.36',\n",
    "}\n",
    "html = get_web_html(url)\n",
    "user_id = re.findall('profilePage_([0-9]+)', html, re.S)[0]\n",
    "doc = pyquery.PyQuery(html)\n",
    "items = doc('script[type=\"text/javascript\"]').items()\n",
    "\n",
    "print(\"user_id:\",user_id)\n",
    "print(\"url:\",url)\n",
    "\n",
    "for item in items:\n",
    "    if item.text().strip().startswith('window._sharedData'):\n",
    "        js_data = json.loads(item.text()[21:-1], encoding='utf-8')\n",
    "        edges = js_data['entry_data']['ProfilePage'][0]['graphql']['user']['edge_owner_to_timeline_media']['edges']\n",
    "        cursor = js_data['entry_data']['ProfilePage'][0]['graphql']['user']['edge_owner_to_timeline_media']['page_info']['end_cursor']\n",
    "        flag = js_data['entry_data']['ProfilePage'][0]['graphql']['user']['edge_owner_to_timeline_media']['page_info']['has_next_page']\n",
    "        get_twelve_post(edges)\n",
    "        \n",
    "for index in range(0,max_post_iter):\n",
    "    if (flag):\n",
    "        url_next = 'https://instagram.com/graphql/query/?query_id=17888483320059182&id='+user_id+'&first=12&after='+cursor\n",
    "        print('url number: ',index)\n",
    "        with urllib.request.urlopen(url_next) as temp_u:\n",
    "            js_data = json.loads(temp_u.read().decode())\n",
    "        edges = js_data['data']['user']['edge_owner_to_timeline_media']['edges']\n",
    "        cursor = js_data['data']['user']['edge_owner_to_timeline_media']['page_info']['end_cursor']\n",
    "        flag = js_data['data']['user']['edge_owner_to_timeline_media']['page_info']['has_next_page']\n",
    "        get_twelve_post(edges)\n",
    "    else:\n",
    "        break"
   ]
  },
  {
   "cell_type": "code",
   "execution_count": null,
   "metadata": {},
   "outputs": [],
   "source": []
  }
 ],
 "metadata": {
  "kernelspec": {
   "display_name": "Python 3",
   "language": "python",
   "name": "python3"
  },
  "language_info": {
   "codemirror_mode": {
    "name": "ipython",
    "version": 3
   },
   "file_extension": ".py",
   "mimetype": "text/x-python",
   "name": "python",
   "nbconvert_exporter": "python",
   "pygments_lexer": "ipython3",
   "version": "3.7.1"
  }
 },
 "nbformat": 4,
 "nbformat_minor": 2
}
